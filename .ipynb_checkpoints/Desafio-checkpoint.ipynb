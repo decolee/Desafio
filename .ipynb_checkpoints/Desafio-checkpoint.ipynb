{
 "cells": [
  {
   "cell_type": "markdown",
   "id": "c50dc2c8",
   "metadata": {},
   "source": [
    "## Importando o arquivo"
   ]
  },
  {
   "cell_type": "code",
   "execution_count": 8,
   "id": "f62f9c66",
   "metadata": {},
   "outputs": [],
   "source": [
    "import pandas as pd\n",
    "\n",
    "nome_arquivo = r\"C:\\Users\\andre\\Documents\\Kaggle\\PISMO\\Desafio\\coffee.csv\"\n",
    "dados_cafe = pd.read_csv(nome_arquivo)\n"
   ]
  },
  {
   "cell_type": "code",
   "execution_count": 9,
   "id": "7d04a35c",
   "metadata": {
    "scrolled": true
   },
   "outputs": [
    {
     "data": {
      "text/html": [
       "<div>\n",
       "<style scoped>\n",
       "    .dataframe tbody tr th:only-of-type {\n",
       "        vertical-align: middle;\n",
       "    }\n",
       "\n",
       "    .dataframe tbody tr th {\n",
       "        vertical-align: top;\n",
       "    }\n",
       "\n",
       "    .dataframe thead th {\n",
       "        text-align: right;\n",
       "    }\n",
       "</style>\n",
       "<table border=\"1\" class=\"dataframe\">\n",
       "  <thead>\n",
       "    <tr style=\"text-align: right;\">\n",
       "      <th></th>\n",
       "      <th>Date</th>\n",
       "      <th>Open</th>\n",
       "      <th>High</th>\n",
       "      <th>Low</th>\n",
       "      <th>Close</th>\n",
       "      <th>Volume</th>\n",
       "      <th>Currency</th>\n",
       "    </tr>\n",
       "  </thead>\n",
       "  <tbody>\n",
       "    <tr>\n",
       "      <th>0</th>\n",
       "      <td>2019-01-02</td>\n",
       "      <td>101.6</td>\n",
       "      <td>102.65</td>\n",
       "      <td>99.35</td>\n",
       "      <td>99.50</td>\n",
       "      <td>22181</td>\n",
       "      <td>USD</td>\n",
       "    </tr>\n",
       "    <tr>\n",
       "      <th>1</th>\n",
       "      <td>2019-01-03</td>\n",
       "      <td>99.5</td>\n",
       "      <td>103.25</td>\n",
       "      <td>99.45</td>\n",
       "      <td>102.15</td>\n",
       "      <td>21488</td>\n",
       "      <td>USD</td>\n",
       "    </tr>\n",
       "    <tr>\n",
       "      <th>2</th>\n",
       "      <td>2019-01-04</td>\n",
       "      <td>102.3</td>\n",
       "      <td>103.00</td>\n",
       "      <td>100.40</td>\n",
       "      <td>101.60</td>\n",
       "      <td>16115</td>\n",
       "      <td>USD</td>\n",
       "    </tr>\n",
       "    <tr>\n",
       "      <th>3</th>\n",
       "      <td>2019-01-07</td>\n",
       "      <td>101.5</td>\n",
       "      <td>103.45</td>\n",
       "      <td>101.15</td>\n",
       "      <td>102.75</td>\n",
       "      <td>15307</td>\n",
       "      <td>USD</td>\n",
       "    </tr>\n",
       "    <tr>\n",
       "      <th>4</th>\n",
       "      <td>2019-01-08</td>\n",
       "      <td>102.9</td>\n",
       "      <td>106.05</td>\n",
       "      <td>102.35</td>\n",
       "      <td>105.05</td>\n",
       "      <td>32987</td>\n",
       "      <td>USD</td>\n",
       "    </tr>\n",
       "  </tbody>\n",
       "</table>\n",
       "</div>"
      ],
      "text/plain": [
       "         Date   Open    High     Low   Close  Volume Currency\n",
       "0  2019-01-02  101.6  102.65   99.35   99.50   22181      USD\n",
       "1  2019-01-03   99.5  103.25   99.45  102.15   21488      USD\n",
       "2  2019-01-04  102.3  103.00  100.40  101.60   16115      USD\n",
       "3  2019-01-07  101.5  103.45  101.15  102.75   15307      USD\n",
       "4  2019-01-08  102.9  106.05  102.35  105.05   32987      USD"
      ]
     },
     "execution_count": 9,
     "metadata": {},
     "output_type": "execute_result"
    }
   ],
   "source": [
    "dados_cafe.head()"
   ]
  },
  {
   "cell_type": "markdown",
   "id": "bd16cbe5",
   "metadata": {},
   "source": [
    "## Lendo as estruturas de cada coluna para entender melhor o CSV"
   ]
  },
  {
   "cell_type": "code",
   "execution_count": 10,
   "id": "f0c031d2",
   "metadata": {},
   "outputs": [
    {
     "name": "stdout",
     "output_type": "stream",
     "text": [
      "Index(['Date', 'Open', 'High', 'Low', 'Close', 'Volume', 'Currency'], dtype='object')\n"
     ]
    }
   ],
   "source": [
    "print(dados_cafe.columns)"
   ]
  },
  {
   "cell_type": "code",
   "execution_count": 11,
   "id": "cb14875c",
   "metadata": {},
   "outputs": [
    {
     "name": "stdout",
     "output_type": "stream",
     "text": [
      "Date         object\n",
      "Open        float64\n",
      "High        float64\n",
      "Low         float64\n",
      "Close       float64\n",
      "Volume        int64\n",
      "Currency     object\n",
      "dtype: object\n"
     ]
    }
   ],
   "source": [
    "print(dados_cafe.dtypes)"
   ]
  },
  {
   "cell_type": "code",
   "execution_count": 12,
   "id": "3c9db818",
   "metadata": {},
   "outputs": [],
   "source": [
    "dados_cafe['Date'] = pd.to_datetime(dados_cafe['Date'])"
   ]
  },
  {
   "cell_type": "markdown",
   "id": "d7cae5d3",
   "metadata": {},
   "source": [
    "## Aqui fiz um ETL de Datetime pois ele estava como object"
   ]
  },
  {
   "cell_type": "code",
   "execution_count": 13,
   "id": "5a484f9b",
   "metadata": {},
   "outputs": [
    {
     "name": "stdout",
     "output_type": "stream",
     "text": [
      "Date        datetime64[ns]\n",
      "Open               float64\n",
      "High               float64\n",
      "Low                float64\n",
      "Close              float64\n",
      "Volume               int64\n",
      "Currency            object\n",
      "dtype: object\n"
     ]
    }
   ],
   "source": [
    "print(dados_cafe.dtypes)"
   ]
  },
  {
   "cell_type": "markdown",
   "id": "8753763a",
   "metadata": {},
   "source": [
    "## Fiz uma analise para ver se tinha algum Null na coluna e rodei um código em Python para dar um double check."
   ]
  },
  {
   "cell_type": "code",
   "execution_count": 18,
   "id": "d72ea432",
   "metadata": {},
   "outputs": [
    {
     "name": "stdout",
     "output_type": "stream",
     "text": [
      "Date        0\n",
      "Open        0\n",
      "High        0\n",
      "Low         0\n",
      "Close       0\n",
      "Volume      0\n",
      "Currency    0\n",
      "dtype: int64\n"
     ]
    }
   ],
   "source": [
    "print(dados_cafe.isnull().sum())"
   ]
  },
  {
   "cell_type": "code",
   "execution_count": 29,
   "id": "66f4b6a0",
   "metadata": {},
   "outputs": [],
   "source": [
    "for data in dados_cafe['Date']:\n",
    "    try:\n",
    "        pd.to_datetime(data)\n",
    "    except ValueError:\n",
    "        print(\"Data fora do padrão: \", data)"
   ]
  },
  {
   "cell_type": "code",
   "execution_count": 15,
   "id": "431511e5",
   "metadata": {},
   "outputs": [],
   "source": [
    "import sqlite3\n",
    "\n",
    "nome_arquivo = r\"C:\\Users\\andre\\Documents\\Kaggle\\PISMO\\Desafio\\exchange_rates.db\"\n",
    "conexao = sqlite3.connect(nome_arquivo)\n",
    "\n",
    "# Para executar uma consulta SQL e obter os resultados em um DataFrame pandas:\n",
    "consulta_sql = \"SELECT * FROM exchange_rates\"\n",
    "dados_taxas_cambio = pd.read_sql_query(consulta_sql, conexao)\n",
    "\n",
    "# Para fechar a conexão com o banco de dados:\n",
    "conexao.close()"
   ]
  },
  {
   "cell_type": "code",
   "execution_count": 16,
   "id": "123724a6",
   "metadata": {},
   "outputs": [
    {
     "name": "stdout",
     "output_type": "stream",
     "text": [
      "<sqlite3.Connection object at 0x0000024C5E6A03F0>\n"
     ]
    }
   ],
   "source": [
    "print(conexao)"
   ]
  },
  {
   "cell_type": "code",
   "execution_count": 17,
   "id": "62f2a124",
   "metadata": {},
   "outputs": [
    {
     "name": "stdout",
     "output_type": "stream",
     "text": [
      "[(0, 'id', 'INTEGER', 1, None, 1), (1, 'Date', 'DATE', 0, None, 0), (2, 'Currency', 'VARCHAR(3)', 0, None, 0), (3, 'Rate', 'FLOAT', 0, None, 0)]\n"
     ]
    }
   ],
   "source": [
    "conexao = sqlite3.connect(nome_arquivo)\n",
    "\n",
    "# Para executar uma consulta SQL para obter as informações sobre a tabela:\n",
    "consulta_sql = \"PRAGMA table_info('exchange_rates')\"\n",
    "cursor = conexao.execute(consulta_sql)\n",
    "colunas = cursor.fetchall()\n",
    "\n",
    "# Para imprimir na tela as informações sobre a tabela:\n",
    "print(colunas)\n",
    "\n",
    "# Para fechar a conexão com o banco de dados:\n",
    "conexao.close()\n"
   ]
  },
  {
   "cell_type": "markdown",
   "id": "0ae8fbf4",
   "metadata": {},
   "source": [
    "## Fazendo as análises do Desafio."
   ]
  },
  {
   "cell_type": "code",
   "execution_count": 32,
   "id": "b87d1725",
   "metadata": {
    "scrolled": false
   },
   "outputs": [
    {
     "name": "stdout",
     "output_type": "stream",
     "text": [
      "Maior volume negociado de café no dia e as cotações de fechamento:\n",
      "         Date  Close  Volume\n",
      "0  2019-04-11  90.25   62045\n",
      "Total de café negociado por ano e as cotações:\n",
      "    Ano  Total_Negociado  Cotacao_Media\n",
      "0  2019          4011645     101.141270\n",
      "1  2020          3078378     111.017589\n",
      "2  2021          3127536     168.890278\n",
      "3  2022          2374254     227.172515\n",
      "Média de volume negociado mensal e anual:\n",
      "     Ano Mes  Media_Volume_Negociado\n",
      "0   2019  01            21827.476190\n",
      "1   2019  02            17392.684211\n",
      "2   2019  03             8916.666667\n",
      "3   2019  04            23584.142857\n",
      "4   2019  05            13223.409091\n",
      "5   2019  06            22037.900000\n",
      "6   2019  07             8819.772727\n",
      "7   2019  08            15226.227273\n",
      "8   2019  09             7425.550000\n",
      "9   2019  10            24074.478261\n",
      "10  2019  11            21131.950000\n",
      "11  2019  12             7368.666667\n",
      "12  2020  01            22863.380952\n",
      "13  2020  02            17807.947368\n",
      "14  2020  03             7510.681818\n",
      "15  2020  04             9736.571429\n",
      "16  2020  05             7298.500000\n",
      "17  2020  06            13202.227273\n",
      "18  2020  07             9903.318182\n",
      "19  2020  08            13991.047619\n",
      "20  2020  09             8526.571429\n",
      "21  2020  10            17664.863636\n",
      "22  2020  11            13478.350000\n",
      "23  2020  12             4765.318182\n",
      "24  2021  01            20298.263158\n",
      "25  2021  02            14050.368421\n",
      "26  2021  03             6916.173913\n",
      "27  2021  04            13315.047619\n",
      "28  2021  05             7061.400000\n",
      "29  2021  06            15562.409091\n",
      "30  2021  07            13117.333333\n",
      "31  2021  08            14867.681818\n",
      "32  2021  09             5705.857143\n",
      "33  2021  10            19292.904762\n",
      "34  2021  11            16347.190476\n",
      "35  2021  12             3718.409091\n",
      "36  2022  01            18890.650000\n",
      "37  2022  02            16674.210526\n",
      "38  2022  03             5156.956522\n",
      "39  2022  04            17803.850000\n",
      "40  2022  05            16666.238095\n",
      "41  2022  06            19171.095238\n",
      "42  2022  07             8784.000000\n",
      "43  2022  08            12029.565217\n"
     ]
    }
   ],
   "source": [
    "import sqlite3\n",
    "import pandas as pd\n",
    "\n",
    "# Leitura do arquivo coffee.csv para um DataFrame pandas\n",
    "dados_cafe = pd.read_csv(r\"C:\\Users\\andre\\Documents\\Kaggle\\PISMO\\Desafio\\coffee.csv\")\n",
    "\n",
    "# Criação de conexão com o banco de dados em memória\n",
    "conexao = sqlite3.connect(\":memory:\")\n",
    "\n",
    "# Carregamento dos dados do DataFrame para uma tabela \"cafe\" no banco de dados em memória\n",
    "dados_cafe.to_sql(\"cafe\", conexao, index=False)\n",
    "\n",
    "# Consulta SQL para obter o maior volume negociado de café no dia e as cotações de fechamento\n",
    "consulta_sql = \"\"\"\n",
    "SELECT Date, Close, Volume\n",
    "FROM cafe\n",
    "WHERE Volume = (SELECT MAX(Volume) FROM cafe)\n",
    "\"\"\"\n",
    "resultado = pd.read_sql_query(consulta_sql, conexao)\n",
    "print(\"Maior volume negociado de café no dia e as cotações de fechamento:\")\n",
    "print(resultado)\n",
    "\n",
    "# Consulta SQL para obter o total de café negociado por ano e as cotações\n",
    "consulta_sql = \"\"\"\n",
    "SELECT STRFTIME('%Y', Date) AS Ano, SUM(Volume) AS Total_Negociado, AVG(Close) AS Cotacao_Media\n",
    "FROM cafe\n",
    "GROUP BY Ano\n",
    "\"\"\"\n",
    "resultado = pd.read_sql_query(consulta_sql, conexao)\n",
    "print(\"Total de café negociado por ano e as cotações:\")\n",
    "print(resultado)\n",
    "\n",
    "# Consulta SQL para obter a média de volume negociado mensal e anual\n",
    "consulta_sql = \"\"\"\n",
    "SELECT STRFTIME('%Y', Date) AS Ano, STRFTIME('%m', Date) AS Mes, AVG(Volume) AS Media_Volume_Negociado\n",
    "FROM cafe\n",
    "GROUP BY Ano, Mes\n",
    "\"\"\"\n",
    "resultado = pd.read_sql_query(consulta_sql, conexao)\n",
    "print(\"Média de volume negociado mensal e anual:\")\n",
    "print(resultado)\n",
    "\n",
    "# Fechamento da conexão com o banco de dados em memória\n",
    "conexao.close()"
   ]
  },
  {
   "cell_type": "markdown",
   "id": "979096e1",
   "metadata": {},
   "source": [
    "## utilizando o request direto da API."
   ]
  },
  {
   "cell_type": "code",
   "execution_count": 53,
   "id": "3b20f16f",
   "metadata": {},
   "outputs": [
    {
     "name": "stdout",
     "output_type": "stream",
     "text": [
      "Cotação do Real - BRL: 3.857302\n",
      "Cotação do Euro - EUR: 0.88807\n",
      "Cotação do Peso Chileno - CLP: 663.898058\n"
     ]
    }
   ],
   "source": [
    "import requests\n",
    "\n",
    "url = \"https://api.apilayer.com/currency_data/historical?date=2019-04-11\"\n",
    "\n",
    "payload = {}\n",
    "headers= {\n",
    "  \"apikey\": \"YeAMzndvd2wsvSujKL21yc3UWplNtdV4\"\n",
    "}\n",
    "\n",
    "response = requests.request(\"GET\", url, headers=headers, data = payload)\n",
    "\n",
    "status_code = response.status_code\n",
    "result = response.json()\n",
    "\n",
    "# Impressão das cotações das moedas Real - BRL, Euro - EUR e Peso Chileno - CLP presentes na resposta\n",
    "cotacoes = result[\"quotes\"]\n",
    "print(\"Cotação do Real - BRL:\", cotacoes[\"USDBRL\"])\n",
    "print(\"Cotação do Euro - EUR:\", cotacoes[\"USDEUR\"])\n",
    "print(\"Cotação do Peso Chileno - CLP:\", cotacoes[\"USDCLP\"])\n"
   ]
  },
  {
   "cell_type": "markdown",
   "id": "b8bdf343",
   "metadata": {},
   "source": [
    "# CUIDADO COM ESSA QUERY, ELA SUBSCREVE O ARQUIVO PRONTO CSV DE ANALISE DO DIRETÓRIO."
   ]
  },
  {
   "cell_type": "code",
   "execution_count": 11,
   "id": "379f00d9",
   "metadata": {},
   "outputs": [
    {
     "name": "stdout",
     "output_type": "stream",
     "text": [
      "Maior volume negociado de café no dia e as cotações de fechamento:\n",
      "         Date  Close  Volume\n",
      "0  2019-04-11  90.25   62045\n",
      "Total de café negociado por ano e as cotações:\n",
      "    Ano  Total_Negociado  Cotacao_Media\n",
      "0  2019          4011645     101.141270\n",
      "1  2020          3078378     111.017589\n",
      "2  2021          3127536     168.890278\n",
      "3  2022          2374254     227.172515\n",
      "Média de volume negociado mensal e anual:\n",
      "     Ano Mes  Media_Volume_Negociado\n",
      "0   2019  01            21827.476190\n",
      "1   2019  02            17392.684211\n",
      "2   2019  03             8916.666667\n",
      "3   2019  04            23584.142857\n",
      "4   2019  05            13223.409091\n",
      "5   2019  06            22037.900000\n",
      "6   2019  07             8819.772727\n",
      "7   2019  08            15226.227273\n",
      "8   2019  09             7425.550000\n",
      "9   2019  10            24074.478261\n",
      "10  2019  11            21131.950000\n",
      "11  2019  12             7368.666667\n",
      "12  2020  01            22863.380952\n",
      "13  2020  02            17807.947368\n",
      "14  2020  03             7510.681818\n",
      "15  2020  04             9736.571429\n",
      "16  2020  05             7298.500000\n",
      "17  2020  06            13202.227273\n",
      "18  2020  07             9903.318182\n",
      "19  2020  08            13991.047619\n",
      "20  2020  09             8526.571429\n",
      "21  2020  10            17664.863636\n",
      "22  2020  11            13478.350000\n",
      "23  2020  12             4765.318182\n",
      "24  2021  01            20298.263158\n",
      "25  2021  02            14050.368421\n",
      "26  2021  03             6916.173913\n",
      "27  2021  04            13315.047619\n",
      "28  2021  05             7061.400000\n",
      "29  2021  06            15562.409091\n",
      "30  2021  07            13117.333333\n",
      "31  2021  08            14867.681818\n",
      "32  2021  09             5705.857143\n",
      "33  2021  10            19292.904762\n",
      "34  2021  11            16347.190476\n",
      "35  2021  12             3718.409091\n",
      "36  2022  01            18890.650000\n",
      "37  2022  02            16674.210526\n",
      "38  2022  03             5156.956522\n",
      "39  2022  04            17803.850000\n",
      "40  2022  05            16666.238095\n",
      "41  2022  06            19171.095238\n",
      "42  2022  07             8784.000000\n",
      "43  2022  08            12029.565217\n"
     ]
    }
   ],
   "source": [
    "import sqlite3\n",
    "import pandas as pd\n",
    "\n",
    "# Leitura do arquivo coffee.csv para um DataFrame pandas\n",
    "dados_cafe = pd.read_csv(r\"C:\\Users\\andre\\Documents\\Kaggle\\PISMO\\Desafio\\coffee.csv\")\n",
    "\n",
    "# Criação de conexão com o banco de dados em memória\n",
    "conexao = sqlite3.connect(\":memory:\")\n",
    "\n",
    "# Carregamento dos dados do DataFrame para uma tabela \"cafe\" no banco de dados em memória\n",
    "dados_cafe.to_sql(\"cafe\", conexao, index=False)\n",
    "\n",
    "# Consulta SQL para obter o maior volume negociado de café no dia e as cotações de fechamento\n",
    "consulta_sql = \"\"\"\n",
    "SELECT Date, Close, Volume\n",
    "FROM cafe\n",
    "WHERE Volume = (SELECT MAX(Volume) FROM cafe)\n",
    "\"\"\"\n",
    "resultado = pd.read_sql_query(consulta_sql, conexao)\n",
    "print(\"Maior volume negociado de café no dia e as cotações de fechamento:\")\n",
    "print(resultado)\n",
    "resultado.to_csv(r\"C:\\Users\\andre\\Documents\\Kaggle\\PISMO\\Desafio\\maior_volume_negociado.csv\", index=False)\n",
    "\n",
    "# Consulta SQL para obter o total de café negociado por ano e as cotações\n",
    "consulta_sql = \"\"\"\n",
    "SELECT STRFTIME('%Y', Date) AS Ano, SUM(Volume) AS Total_Negociado, AVG(Close) AS Cotacao_Media\n",
    "FROM cafe\n",
    "GROUP BY Ano\n",
    "\"\"\"\n",
    "resultado = pd.read_sql_query(consulta_sql, conexao)\n",
    "print(\"Total de café negociado por ano e as cotações:\")\n",
    "print(resultado)\n",
    "resultado.to_csv(r\"C:\\Users\\andre\\Documents\\Kaggle\\PISMO\\Desafio\\total_negociado_por_ano.csv\", index=False)\n",
    "\n",
    "# Consulta SQL para obter a média de volume negociado mensal e anual\n",
    "consulta_sql = \"\"\"\n",
    "SELECT STRFTIME('%Y', Date) AS Ano, STRFTIME('%m', Date) AS Mes, AVG(Volume) AS Media_Volume_Negociado\n",
    "FROM cafe\n",
    "GROUP BY Ano, Mes\n",
    "\"\"\"\n",
    "resultado = pd.read_sql_query(consulta_sql, conexao)\n",
    "print(\"Média de volume negociado mensal e anual:\")\n",
    "print(resultado)\n",
    "resultado.to_csv(r\"C:\\Users\\andre\\Documents\\Kaggle\\PISMO\\Desafio\\media_volume_negociado_mensal_anual.csv\", index=False)\n",
    "\n",
    "# Fechamento da conexão com o banco de dados em memória\n",
    "conexao.close()\n"
   ]
  },
  {
   "cell_type": "markdown",
   "id": "f45348fe",
   "metadata": {},
   "source": [
    "## Utilizei alguns comandos em python para transformação da tabela Raw - bronze - silver - gold, para ter as cotações, os códigos estão todos junto ao documento git."
   ]
  },
  {
   "cell_type": "code",
   "execution_count": 41,
   "id": "54d2ec1b",
   "metadata": {},
   "outputs": [],
   "source": [
    "import pandas as pd\n",
    "\n",
    "nome_arquivo2 = r\"C:\\Users\\andre\\Documents\\Kaggle\\PISMO\\Desafio\\coffee_gold.csv\"\n",
    "dados_cafe_gold = pd.read_csv(nome_arquivo2)"
   ]
  },
  {
   "cell_type": "code",
   "execution_count": 42,
   "id": "33b44710",
   "metadata": {},
   "outputs": [
    {
     "data": {
      "text/html": [
       "<div>\n",
       "<style scoped>\n",
       "    .dataframe tbody tr th:only-of-type {\n",
       "        vertical-align: middle;\n",
       "    }\n",
       "\n",
       "    .dataframe tbody tr th {\n",
       "        vertical-align: top;\n",
       "    }\n",
       "\n",
       "    .dataframe thead th {\n",
       "        text-align: right;\n",
       "    }\n",
       "</style>\n",
       "<table border=\"1\" class=\"dataframe\">\n",
       "  <thead>\n",
       "    <tr style=\"text-align: right;\">\n",
       "      <th></th>\n",
       "      <th>Date</th>\n",
       "      <th>Open</th>\n",
       "      <th>High</th>\n",
       "      <th>Low</th>\n",
       "      <th>Close</th>\n",
       "      <th>Volume</th>\n",
       "      <th>Currency</th>\n",
       "      <th>USD-BRL</th>\n",
       "      <th>USD-CLP</th>\n",
       "      <th>USD-EUR</th>\n",
       "      <th>Volume_USD-BRL</th>\n",
       "      <th>Volume_USD-CLP</th>\n",
       "      <th>Volume_USD-EUR</th>\n",
       "    </tr>\n",
       "  </thead>\n",
       "  <tbody>\n",
       "    <tr>\n",
       "      <th>0</th>\n",
       "      <td>1/2/2019</td>\n",
       "      <td>101.6</td>\n",
       "      <td>102.65</td>\n",
       "      <td>99.35</td>\n",
       "      <td>99.50</td>\n",
       "      <td>22181</td>\n",
       "      <td>USD</td>\n",
       "      <td>3.789851</td>\n",
       "      <td>696.820523</td>\n",
       "      <td>0.883585</td>\n",
       "      <td>84062.68503</td>\n",
       "      <td>15456176.02</td>\n",
       "      <td>19598.79889</td>\n",
       "    </tr>\n",
       "    <tr>\n",
       "      <th>1</th>\n",
       "      <td>1/3/2019</td>\n",
       "      <td>99.5</td>\n",
       "      <td>103.25</td>\n",
       "      <td>99.45</td>\n",
       "      <td>102.15</td>\n",
       "      <td>21488</td>\n",
       "      <td>USD</td>\n",
       "      <td>3.756597</td>\n",
       "      <td>693.799154</td>\n",
       "      <td>0.877920</td>\n",
       "      <td>80721.75634</td>\n",
       "      <td>14908356.22</td>\n",
       "      <td>18864.74496</td>\n",
       "    </tr>\n",
       "    <tr>\n",
       "      <th>2</th>\n",
       "      <td>1/4/2019</td>\n",
       "      <td>102.3</td>\n",
       "      <td>103.00</td>\n",
       "      <td>100.40</td>\n",
       "      <td>101.60</td>\n",
       "      <td>16115</td>\n",
       "      <td>USD</td>\n",
       "      <td>3.715204</td>\n",
       "      <td>681.203912</td>\n",
       "      <td>0.877535</td>\n",
       "      <td>59870.51246</td>\n",
       "      <td>10977601.04</td>\n",
       "      <td>14141.47653</td>\n",
       "    </tr>\n",
       "    <tr>\n",
       "      <th>3</th>\n",
       "      <td>1/7/2019</td>\n",
       "      <td>101.5</td>\n",
       "      <td>103.45</td>\n",
       "      <td>101.15</td>\n",
       "      <td>102.75</td>\n",
       "      <td>15307</td>\n",
       "      <td>USD</td>\n",
       "      <td>3.735601</td>\n",
       "      <td>681.249605</td>\n",
       "      <td>0.871125</td>\n",
       "      <td>57180.84451</td>\n",
       "      <td>10427887.70</td>\n",
       "      <td>13334.31038</td>\n",
       "    </tr>\n",
       "    <tr>\n",
       "      <th>4</th>\n",
       "      <td>1/8/2019</td>\n",
       "      <td>102.9</td>\n",
       "      <td>106.05</td>\n",
       "      <td>102.35</td>\n",
       "      <td>105.05</td>\n",
       "      <td>32987</td>\n",
       "      <td>USD</td>\n",
       "      <td>3.713906</td>\n",
       "      <td>680.400592</td>\n",
       "      <td>0.872925</td>\n",
       "      <td>122510.61720</td>\n",
       "      <td>22444374.33</td>\n",
       "      <td>28795.17698</td>\n",
       "    </tr>\n",
       "  </tbody>\n",
       "</table>\n",
       "</div>"
      ],
      "text/plain": [
       "       Date   Open    High     Low   Close  Volume Currency   USD-BRL  \\\n",
       "0  1/2/2019  101.6  102.65   99.35   99.50   22181      USD  3.789851   \n",
       "1  1/3/2019   99.5  103.25   99.45  102.15   21488      USD  3.756597   \n",
       "2  1/4/2019  102.3  103.00  100.40  101.60   16115      USD  3.715204   \n",
       "3  1/7/2019  101.5  103.45  101.15  102.75   15307      USD  3.735601   \n",
       "4  1/8/2019  102.9  106.05  102.35  105.05   32987      USD  3.713906   \n",
       "\n",
       "      USD-CLP   USD-EUR  Volume_USD-BRL  Volume_USD-CLP  Volume_USD-EUR  \n",
       "0  696.820523  0.883585     84062.68503     15456176.02     19598.79889  \n",
       "1  693.799154  0.877920     80721.75634     14908356.22     18864.74496  \n",
       "2  681.203912  0.877535     59870.51246     10977601.04     14141.47653  \n",
       "3  681.249605  0.871125     57180.84451     10427887.70     13334.31038  \n",
       "4  680.400592  0.872925    122510.61720     22444374.33     28795.17698  "
      ]
     },
     "execution_count": 42,
     "metadata": {},
     "output_type": "execute_result"
    }
   ],
   "source": [
    "dados_cafe_gold.head()"
   ]
  },
  {
   "cell_type": "code",
   "execution_count": 43,
   "id": "2f111ca7",
   "metadata": {},
   "outputs": [
    {
     "data": {
      "text/plain": [
       "Date               object\n",
       "Open              float64\n",
       "High              float64\n",
       "Low               float64\n",
       "Close             float64\n",
       "Volume              int64\n",
       "Currency           object\n",
       "USD-BRL           float64\n",
       "USD-CLP           float64\n",
       "USD-EUR           float64\n",
       "Volume_USD-BRL    float64\n",
       "Volume_USD-CLP    float64\n",
       "Volume_USD-EUR    float64\n",
       "dtype: object"
      ]
     },
     "execution_count": 43,
     "metadata": {},
     "output_type": "execute_result"
    }
   ],
   "source": [
    "dados_cafe_gold.dtypes"
   ]
  },
  {
   "cell_type": "markdown",
   "id": "1a36a731",
   "metadata": {},
   "source": [
    "## tudo ok, vamos fazer a analise novamente agora com a planilha de valores e volumes, antes vou transformar o arquivo em Parquet para pesar menos."
   ]
  },
  {
   "cell_type": "code",
   "execution_count": 12,
   "id": "68d27432",
   "metadata": {},
   "outputs": [],
   "source": [
    "import pandas as pd\n",
    "\n",
    "# Defina o caminho do arquivo de entrada e saída\n",
    "input_csv = r\"C:\\Users\\andre\\Documents\\Kaggle\\PISMO\\Desafio\\coffee_gold.csv\"\n",
    "output_parquet = r\"C:\\Users\\andre\\Documents\\Kaggle\\PISMO\\Desafio\\coffee_gold.parquet\"\n",
    "\n",
    "# Leia o arquivo CSV como um DataFrame do pandas\n",
    "df = pd.read_csv(input_csv)\n",
    "\n",
    "# Salve o DataFrame como um arquivo Parquet\n",
    "df.to_parquet(output_parquet, engine='pyarrow', index=False)\n"
   ]
  },
  {
   "cell_type": "code",
   "execution_count": 27,
   "id": "b35356c8",
   "metadata": {},
   "outputs": [
    {
     "data": {
      "text/plain": [
       "Row(Date='1/2/2019', Open=101.6, High=102.65, Low=99.35, Close=99.5, Volume=22181, Currency='USD', USDBRL=3.789851, USDCLP=696.820523, USDEUR=0.883585, Volume_USDBRL=84062.68503, Volume_USDCLP=15456176.02, Volume_USDEUR=19598.79889)"
      ]
     },
     "execution_count": 27,
     "metadata": {},
     "output_type": "execute_result"
    }
   ],
   "source": [
    "df.head()"
   ]
  },
  {
   "cell_type": "code",
   "execution_count": 16,
   "id": "6d1b26fb",
   "metadata": {},
   "outputs": [],
   "source": [
    "from pyspark.sql import SparkSession\n",
    "from pyspark.sql.functions import year, month\n",
    "\n",
    "# Criando uma SparkSession\n",
    "spark = SparkSession.builder.master(\"local\").appName(\"CoffeeAnalysis\").getOrCreate()\n"
   ]
  },
  {
   "cell_type": "code",
   "execution_count": 25,
   "id": "7dcbfa84",
   "metadata": {},
   "outputs": [],
   "source": [
    "input_parquet = r\"C:\\Users\\andre\\Documents\\Kaggle\\PISMO\\Desafio\\coffee_gold.parquet\"\n",
    "\n",
    "# Leia o arquivo Parquet como um DataFrame do PySpark (cuidado com o arquivo pois estou lendo o parquet, ele está dentro do git)\n",
    "df = spark.read.parquet(input_parquet)"
   ]
  },
  {
   "cell_type": "code",
   "execution_count": null,
   "id": "ba1078b8",
   "metadata": {},
   "outputs": [],
   "source": [
    "## Perguntas do desafio:"
   ]
  },
  {
   "cell_type": "markdown",
   "id": "ae3450c6",
   "metadata": {},
   "source": [
    "## Utilizando pandas para ter um double check."
   ]
  },
  {
   "cell_type": "code",
   "execution_count": 39,
   "id": "a0e77dfa",
   "metadata": {},
   "outputs": [
    {
     "name": "stdout",
     "output_type": "stream",
     "text": [
      "Maior volume negociado de café no dia e as cotações de fechamento:\n",
      "Date              2019-04-11 00:00:00\n",
      "Open                             94.1\n",
      "High                             94.3\n",
      "Low                             90.15\n",
      "Close                           90.25\n",
      "Volume                          62045\n",
      "Currency                          USD\n",
      "USD-BRL                      3.857302\n",
      "USD-CLP                    663.898058\n",
      "USD-EUR                       0.88807\n",
      "Volume_USD-BRL            239326.3026\n",
      "Volume_USD-CLP            41191555.01\n",
      "Volume_USD-EUR            55100.30315\n",
      "Name: 69, dtype: object\n",
      "Total de café negociado por ano e as cotações:\n",
      "       Volume   USD-BRL     USD-CLP   USD-EUR\n",
      "Ano                                          \n",
      "2019  4011645  3.945154  703.635667  0.893084\n",
      "2020  3078378  5.164605  792.334426  0.876617\n",
      "2021  3152066  5.398363  760.687902  0.845883\n",
      "2022  2401434  5.117718  853.370903  0.933512\n",
      "Média de volume negociado mensal e anual:\n",
      "                Volume   USD-BRL     USD-CLP   USD-EUR\n",
      "Ano  Mes                                              \n",
      "2019 1    21827.476190  3.733684  674.882938  0.875480\n",
      "     2    17392.684211  3.722801  655.778096  0.880909\n",
      "     3     8916.666667  3.839809  670.156984  0.884549\n",
      "     4    23584.142857  3.895746  667.345685  0.890052\n",
      "     5    13223.409091  3.993911  692.612948  0.893852\n",
      "     6    22037.900000  3.858694  690.701586  0.884776\n",
      "     7     8819.772727  3.780441  687.523245  0.891899\n",
      "     8    15226.227273  4.027185  714.374201  0.897816\n",
      "     9     7425.550000  4.118266  718.288858  0.907521\n",
      "     10   24074.478261  4.085756  722.697089  0.904291\n",
      "     11   21131.950000  4.159535  782.342806  0.904838\n",
      "     12    7368.666667  4.107407  765.160944  0.899443\n",
      "2020 1    22863.380952  4.151639  775.933377  0.900893\n",
      "     2    17807.947368  4.352277  797.771819  0.916636\n",
      "     3     7510.681818  4.896508  842.247276  0.903580\n",
      "     4     9736.571429  5.326774  853.296659  0.920124\n",
      "     5     7298.500000  5.638203  821.145487  0.915836\n",
      "     6    13202.227273  5.191830  796.648155  0.888124\n",
      "     7     9903.318182  5.281598  781.034203  0.870781\n",
      "     8    13991.047619  5.460068  786.534643  0.845083\n",
      "     9     8526.571429  5.405408  773.655209  0.848596\n",
      "     10   17664.863636  5.628521  787.847056  0.849788\n",
      "     11   13478.350000  5.438725  761.930149  0.844872\n",
      "     12    4765.318182  5.146621  731.478534  0.821601\n",
      "2021 1    20298.263158  5.364977  723.432175  0.821107\n",
      "     2    14574.350000  5.414314  722.758039  0.827027\n",
      "     3     6916.173913  5.646150  725.887914  0.840324\n",
      "     4    13315.047619  5.559818  707.653468  0.834588\n",
      "     5     7061.400000  5.300338  712.585101  0.823436\n",
      "     6    15562.409091  5.026157  728.697554  0.830598\n",
      "     7    13117.333333  5.167242  753.470147  0.845816\n",
      "     8    14867.681818  5.251713  781.312786  0.849768\n",
      "     9     5705.857143  5.282241  787.182969  0.850333\n",
      "     10   19292.904762  5.539160  814.050985  0.862080\n",
      "     11   16347.190476  5.557210  814.149367  0.876065\n",
      "     12    3718.409091  5.652934  849.075905  0.884364\n",
      "2022 1    18890.650000  5.527401  819.272585  0.883871\n",
      "     2    17199.500000  5.200488  807.370615  0.881851\n",
      "     3     5156.956522  4.971206  797.967802  0.907406\n",
      "     4    17803.850000  4.747786  818.907898  0.926053\n",
      "     5    16666.238095  4.961004  848.589876  0.945835\n",
      "     6    19171.095238  5.051602  865.889173  0.946387\n",
      "     7     8784.000000  5.366729  966.711737  0.983117\n",
      "     8    12029.565217  5.144611  902.771110  0.988054\n"
     ]
    }
   ],
   "source": [
    "import pandas as pd\n",
    "\n",
    "# Carregar o arquivo CSV\n",
    "coffee_gold = pd.read_csv(\"C:/Users/andre/Documents/Kaggle/PISMO/Desafio/coffee_gold.csv\")\n",
    "coffee_gold['Date'] = pd.to_datetime(coffee_gold['Date'])\n",
    "\n",
    "# Maior volume negociado de café no dia e as cotações de fechamento\n",
    "max_volume = coffee_gold.loc[coffee_gold['Volume'].idxmax()]\n",
    "print(\"Maior volume negociado de café no dia e as cotações de fechamento:\")\n",
    "print(max_volume)\n",
    "\n",
    "# Total de café negociado por ano e as cotações\n",
    "coffee_gold['Ano'] = coffee_gold['Date'].dt.year\n",
    "total_negociado_por_ano = coffee_gold.groupby('Ano').agg({\n",
    "    'Volume': 'sum',\n",
    "    'USD-BRL': 'mean',\n",
    "    'USD-CLP': 'mean',\n",
    "    'USD-EUR': 'mean'\n",
    "})\n",
    "print(\"Total de café negociado por ano e as cotações:\")\n",
    "print(total_negociado_por_ano)\n",
    "\n",
    "# Média de volume negociado mensal e anual\n",
    "coffee_gold['Mes'] = coffee_gold['Date'].dt.month\n",
    "media_volume_mensal_anual = coffee_gold.groupby(['Ano', 'Mes']).agg({\n",
    "    'Volume': 'mean',\n",
    "    'USD-BRL': 'mean',\n",
    "    'USD-CLP': 'mean',\n",
    "    'USD-EUR': 'mean'\n",
    "})\n",
    "print(\"Média de volume negociado mensal e anual:\")\n",
    "print(media_volume_mensal_anual)"
   ]
  },
  {
   "cell_type": "code",
   "execution_count": null,
   "id": "5c59ad2c",
   "metadata": {},
   "outputs": [],
   "source": [
    "## para fazer as consultas vou utilziar o spark, como estou trabalhando com python vou utilizar o fram. Pyspark (atenção para a versão) // Perguntas do desafio:"
   ]
  },
  {
   "cell_type": "code",
   "execution_count": 59,
   "id": "db245f16",
   "metadata": {},
   "outputs": [
    {
     "name": "stdout",
     "output_type": "stream",
     "text": [
      "Requirement already satisfied: pyspark in c:\\users\\andre\\anaconda3\\lib\\site-packages (3.3.2)\n",
      "Requirement already satisfied: py4j==0.10.9.5 in c:\\users\\andre\\anaconda3\\lib\\site-packages (from pyspark) (0.10.9.5)\n"
     ]
    }
   ],
   "source": [
    "!pip install pyspark"
   ]
  },
  {
   "cell_type": "code",
   "execution_count": 52,
   "id": "a88916a7",
   "metadata": {},
   "outputs": [],
   "source": [
    "from pyspark.sql import SparkSession\n",
    "\n",
    "# Inicialize a SparkSession\n",
    "spark = SparkSession.builder \\\n",
    "    .appName(\"Pandas to Spark DataFrame Conversion\") \\\n",
    "    .getOrCreate()\n",
    "\n",
    "# Converter o pandas DataFrame em PySpark DataFrame\n",
    "coffee_gold_spark = spark.createDataFrame(coffee_gold)\n",
    "\n",
    "# Adicionar as colunas 'Ano' e 'Mes'\n",
    "coffee_gold_spark = coffee_gold_spark.withColumn('Ano', year(coffee_gold_spark['Date']))\n",
    "coffee_gold_spark = coffee_gold_spark.withColumn('Mes', month(coffee_gold_spark['Date']))\n",
    "\n",
    "# Crie uma visualização temporária para executar consultas SQL\n",
    "coffee_gold_spark.createOrReplaceTempView(\"coffee_gold\")\n"
   ]
  },
  {
   "cell_type": "markdown",
   "id": "b3a6f23c",
   "metadata": {},
   "source": [
    "## Pyspark com python 3.11"
   ]
  },
  {
   "cell_type": "code",
   "execution_count": 68,
   "id": "06a4cb19",
   "metadata": {},
   "outputs": [
    {
     "name": "stdout",
     "output_type": "stream",
     "text": [
      "Requirement already satisfied: pyspark in c:\\users\\andre\\anaconda3\\lib\\site-packages (3.3.2)\n",
      "Requirement already satisfied: py4j==0.10.9.5 in c:\\users\\andre\\anaconda3\\lib\\site-packages (from pyspark) (0.10.9.5)\n"
     ]
    }
   ],
   "source": [
    "import os\n",
    "\n",
    "os.environ[\"PYSPARK_PYTHON\"] = \"C:\\\\Users\\\\andre\\\\AppData\\\\Local\\\\Programs\\\\Python\\\\Python311\\\\python.exe\"\n",
    "os.environ[\"PYSPARK_DRIVER_PYTHON\"] = \"C:\\\\Users\\\\andre\\\\AppData\\\\Local\\\\Programs\\\\Python\\\\Python311\\\\python.exe\"\n",
    "!pip install pyspark"
   ]
  },
  {
   "cell_type": "code",
   "execution_count": null,
   "id": "625a9b24",
   "metadata": {},
   "outputs": [],
   "source": [
    "total_cafe_ano = spark.sql(\"\"\"\n",
    "SELECT Ano,\n",
    "       SUM(Volume) as Total_Negociado,\n",
    "       AVG(Close) as Cotacao_Media,\n",
    "       AVG(`USD-BRL`) as Media_USDBRL,\n",
    "       AVG(`USD-CLP`) as Media_USDCLP,\n",
    "       AVG(`USD-EUR`) as Media_USDEUR\n",
    "FROM coffee_gold\n",
    "GROUP BY Ano\n",
    "\"\"\")\n",
    "\n",
    "total_cafe_ano.show()"
   ]
  },
  {
   "cell_type": "code",
   "execution_count": null,
   "id": "e0742a9b",
   "metadata": {},
   "outputs": [],
   "source": [
    "maior_volume_dia = spark.sql(\"\"\"\n",
    "SELECT Date, Close, Volume, `USD-BRL`, `USD-CLP`, `USD-EUR`\n",
    "FROM coffee_gold\n",
    "WHERE Volume = (SELECT MAX(Volume) FROM coffee_gold)\n",
    "\"\"\")\n",
    "\n",
    "maior_volume_dia.show()"
   ]
  },
  {
   "cell_type": "code",
   "execution_count": null,
   "id": "3ed39db5",
   "metadata": {},
   "outputs": [],
   "source": [
    "media_volume_mensal_anual = spark.sql(\"\"\"\n",
    "SELECT Ano, Mes,\n",
    "       AVG(Volume) as Media_Volume_Negociado,\n",
    "       AVG(`USD-BRL`) as Media_USDBRL,\n",
    "       AVG(`USD-CLP`) as Media_USDCLP,\n",
    "       AVG(`USD-EUR`) as Media_USDEUR\n",
    "FROM coffee_gold\n",
    "GROUP BY Ano, Mes\n",
    "ORDER BY Ano, Mes\n",
    "\"\"\")\n",
    "\n",
    "media_volume_mensal_anual.show()"
   ]
  },
  {
   "cell_type": "code",
   "execution_count": 74,
   "id": "c60c600c",
   "metadata": {},
   "outputs": [],
   "source": [
    "## disperção para analisar os quartis."
   ]
  },
  {
   "cell_type": "code",
   "execution_count": 73,
   "id": "958ada1e",
   "metadata": {},
   "outputs": [
    {
     "name": "stdout",
     "output_type": "stream",
     "text": [
      "             Open        High         Low       Close        Volume  \\\n",
      "count  926.000000  926.000000  926.000000  926.000000    926.000000   \n",
      "mean   145.303790  147.227851  143.375065  145.178467  13653.912527   \n",
      "std     51.640715   52.379308   50.894639   51.804886  12702.120368   \n",
      "min     87.050000   87.600000   86.350000   86.650000      0.000000   \n",
      "25%    103.700000  104.925000  102.350000  103.562500     28.250000   \n",
      "50%    122.500000  124.250000  120.575000  122.500000  14666.000000   \n",
      "75%    199.837500  203.312500  194.437500  199.050000  22584.750000   \n",
      "max    259.100000  260.450000  253.650000  258.350000  62045.000000   \n",
      "\n",
      "          USD-BRL      USD-CLP     USD-EUR  Volume_USD-BRL  Volume_USD-CLP  \\\n",
      "count  926.000000   926.000000  926.000000      926.000000    9.260000e+02   \n",
      "mean     4.888106   770.623271    0.883023    65391.244441    1.042613e+07   \n",
      "std      0.658788    67.806046    0.040162    59457.432871    9.539160e+06   \n",
      "min      3.644305   648.103082    0.810403        0.000000    0.000000e+00   \n",
      "25%      4.156150   716.874946    0.848573      129.228727    2.145978e+04   \n",
      "50%      5.158052   773.802421    0.885280    71742.160325    1.165663e+07   \n",
      "75%      5.404723   812.901013    0.904426   107353.621800    1.748003e+07   \n",
      "max      5.887898  1050.760388    1.006125   262475.646700    4.186729e+07   \n",
      "\n",
      "       Volume_USD-EUR          Ano         Mes  \n",
      "count      926.000000   926.000000  926.000000  \n",
      "mean     12063.597227  2020.363931    6.186825  \n",
      "std      11235.448915     1.067635    3.348687  \n",
      "min          0.000000  2019.000000    1.000000  \n",
      "25%         25.260692  2019.000000    3.000000  \n",
      "50%      13098.786770  2020.000000    6.000000  \n",
      "75%      20028.974425  2021.000000    9.000000  \n",
      "max      55100.303150  2022.000000   12.000000  \n",
      "                Open        High         Low       Close        Volume  \\\n",
      "Ano  Mes                                                                 \n",
      "2019 1    103.085714  104.619048  101.959524  103.350000  21827.476190   \n",
      "     2    100.026316  100.784211   98.802632   99.476316  17392.684211   \n",
      "     3     95.999524   96.695238   95.233333   94.488095   8916.666667   \n",
      "     4     92.030952   93.202381   90.900000   91.869048  23584.142857   \n",
      "     5     91.609545   92.827273   90.737273   91.734091  13223.409091   \n",
      "     6    100.582500  102.222500   99.270000  100.705000  22037.900000   \n",
      "     7    106.325909  107.349545  104.362273  104.852273   8819.772727   \n",
      "     8     94.725000   95.661364   93.672727   94.584091  15226.227273   \n",
      "     9     99.482000  100.986500   98.461500   97.920000   7425.550000   \n",
      "     10    97.226087   98.586957   95.947826   97.367391  24074.478261   \n",
      "     11   108.761500  110.555000  107.656500  109.545000  21131.950000   \n",
      "     12   129.332381  130.911429  127.630952  128.814286   7368.666667   \n",
      "2020 1    114.921429  115.828571  112.621429  113.569048  22863.380952   \n",
      "     2    103.350000  105.350000  101.863158  103.763158  17807.947368   \n",
      "     3    114.694545  116.701364  112.970909  114.845455   7510.681818   \n",
      "     4    114.328571  115.807143  112.095238  113.607143   9736.571429   \n",
      "     5    105.650000  106.241500  104.459000  105.165000   7298.500000   \n",
      "     6     96.915909   98.020455   95.565909   96.709091  13202.227273   \n",
      "     7    102.872273  104.814091  101.930455  103.270455   9903.318182   \n",
      "     8    118.590476  121.150000  116.754762  118.947619  13991.047619   \n",
      "     9    121.374286  122.617619  119.599048  121.147619   8526.571429   \n",
      "     10   107.604545  109.325000  105.990909  107.402273  17664.863636   \n",
      "     11   111.550000  113.120000  110.307500  111.850000  13478.350000   \n",
      "     12   121.892273  123.060455  120.840455  121.543182   4765.318182   \n",
      "2021 1    124.363158  126.202632  122.460526  124.400000  20298.263158   \n",
      "     2    126.427500  128.302500  125.442500  127.212500  14574.350000   \n",
      "     3    130.363913  130.901304  128.360000  129.156522   6916.173913   \n",
      "     4    132.076190  133.969048  130.733333  132.471429  13315.047619   \n",
      "     5    148.814000  150.134000  147.555500  149.240000   7061.400000   \n",
      "     6    156.650000  158.486364  154.404545  156.293182  15562.409091   \n",
      "     7    170.268571  173.755714  166.148571  169.316667  13117.333333   \n",
      "     8    181.218182  183.559091  179.054545  181.922727  14867.681818   \n",
      "     9    189.833333  191.829524  188.242857  189.107143   5705.857143   \n",
      "     10   202.442857  206.361905  199.254762  202.769048  19292.904762   \n",
      "     11   220.002381  224.545238  217.264286  221.388095  16347.190476   \n",
      "     12   235.041818  236.626364  233.038636  234.800000   3718.409091   \n",
      "2022 1    235.815000  238.945000  232.970000  236.240000  18890.650000   \n",
      "     2    246.207500  249.010000  242.862500  245.722500  17199.500000   \n",
      "     3    223.479565  225.726087  220.628696  223.508696   5156.956522   \n",
      "     4    225.926500  228.744000  222.631500  225.631500  17803.850000   \n",
      "     5    217.992857  221.114286  214.090476  218.082381  16666.238095   \n",
      "     6    230.066667  234.145238  226.811905  230.292857  19171.095238   \n",
      "     7    216.073000  217.967500  212.446500  215.447500   8784.000000   \n",
      "     8    223.239130  227.173913  220.367391  224.221739  12029.565217   \n",
      "\n",
      "           USD-BRL     USD-CLP   USD-EUR  Volume_USD-BRL  Volume_USD-CLP  \\\n",
      "Ano  Mes                                                                   \n",
      "2019 1    3.733684  674.882938  0.875480    81483.609922    1.472958e+07   \n",
      "     2    3.722801  655.778096  0.880909    64570.164423    1.144905e+07   \n",
      "     3    3.839809  670.156984  0.884549    34620.249652    6.036377e+06   \n",
      "     4    3.895746  667.345685  0.890052    91211.049970    1.567582e+07   \n",
      "     5    3.993911  692.612948  0.893852    52877.054842    9.299195e+06   \n",
      "     6    3.858694  690.701586  0.884776    85367.306062    1.534155e+07   \n",
      "     7    3.780441  687.523245  0.891899    33330.190639    6.133161e+06   \n",
      "     8    4.027185  714.374201  0.897816    60313.822020    1.083551e+07   \n",
      "     9    4.118266  718.288858  0.907521    30878.450108    5.373767e+06   \n",
      "     10   4.085756  722.697089  0.904291    98236.816614    1.740385e+07   \n",
      "     11   4.159535  782.342806  0.904838    86772.796311    1.602676e+07   \n",
      "     12   4.107407  765.160944  0.899443    29934.821371    5.518861e+06   \n",
      "2020 1    4.151639  775.933377  0.900893    95023.493282    1.775924e+07   \n",
      "     2    4.352277  797.771819  0.916636    76730.056368    1.406053e+07   \n",
      "     3    4.896508  842.247276  0.903580    38297.809451    6.380261e+06   \n",
      "     4    5.326774  853.296659  0.920124    50861.741528    8.319783e+06   \n",
      "     5    5.638203  821.145487  0.915836    39815.531240    5.900754e+06   \n",
      "     6    5.191830  796.648155  0.888124    67311.941246    1.036611e+07   \n",
      "     7    5.281598  781.034203  0.870781    51252.993702    7.574194e+06   \n",
      "     8    5.460068  786.534643  0.845083    75341.084426    1.097652e+07   \n",
      "     9    5.405408  773.655209  0.848596    47308.894027    6.667137e+06   \n",
      "     10   5.628521  787.847056  0.849788    99444.389620    1.392248e+07   \n",
      "     11   5.438725  761.930149  0.844872    73957.185904    1.022486e+07   \n",
      "     12   5.146621  731.478534  0.821601    24725.270647    3.415054e+06   \n",
      "2021 1    5.364977  723.432175  0.821107   108786.088647    1.466949e+07   \n",
      "     2    5.414314  722.758039  0.827027    78557.020958    1.064552e+07   \n",
      "     3    5.646150  725.887914  0.840324    39137.101492    5.019633e+06   \n",
      "     4    5.559818  707.653468  0.834588    75098.426203    9.454764e+06   \n",
      "     5    5.300338  712.585101  0.823436    37340.516035    5.120589e+06   \n",
      "     6    5.026157  728.697554  0.830598    78895.570050    1.124762e+07   \n",
      "     7    5.167242  753.470147  0.845816    67846.659149    9.956887e+06   \n",
      "     8    5.251713  781.312786  0.849768    77951.691950    1.157794e+07   \n",
      "     9    5.282241  787.182969  0.850333    30587.911795    4.543748e+06   \n",
      "     10   5.539160  814.050985  0.862080   106813.591361    1.569171e+07   \n",
      "     11   5.557210  814.149367  0.876065    90279.621025    1.316802e+07   \n",
      "     12   5.652934  849.075905  0.884364    21018.768239    3.191095e+06   \n",
      "2022 1    5.527401  819.272585  0.883871   104357.449740    1.546122e+07   \n",
      "     2    5.200488  807.370615  0.881851    90306.606460    1.398536e+07   \n",
      "     3    4.971206  797.967802  0.907406    24703.491138    4.051876e+06   \n",
      "     4    4.747786  818.907898  0.926053    83891.439271    1.446692e+07   \n",
      "     5    4.961004  848.589876  0.945835    82701.854522    1.414119e+07   \n",
      "     6    5.051602  865.889173  0.946387    96106.402298    1.644564e+07   \n",
      "     7    5.366729  966.711737  0.983117    47019.559565    8.197187e+06   \n",
      "     8    5.144611  902.771110  0.988054    62119.919705    1.086259e+07   \n",
      "\n",
      "          Volume_USD-EUR  \n",
      "Ano  Mes                  \n",
      "2019 1      19109.905335  \n",
      "     2      15332.600204  \n",
      "     3       7891.253670  \n",
      "     4      20951.164707  \n",
      "     5      11842.600008  \n",
      "     6      19550.026257  \n",
      "     7       7914.718828  \n",
      "     8      13620.919906  \n",
      "     9       6768.566991  \n",
      "     10     21762.688334  \n",
      "     11     19097.840323  \n",
      "     12      6618.261731  \n",
      "2020 1      20605.665176  \n",
      "     2      16289.879770  \n",
      "     3       6883.117164  \n",
      "     4       8945.942537  \n",
      "     5       6634.422043  \n",
      "     6      11718.750191  \n",
      "     7       8449.276716  \n",
      "     8      11843.851467  \n",
      "     9       7285.770517  \n",
      "     10     15015.004091  \n",
      "     11     11422.278420  \n",
      "     12      3900.389491  \n",
      "2021 1      16664.231980  \n",
      "     2      12076.324942  \n",
      "     3       5867.855278  \n",
      "     4      11173.743429  \n",
      "     5       5787.955772  \n",
      "     6      12822.507764  \n",
      "     7      11101.756049  \n",
      "     8      12630.759363  \n",
      "     9       4885.659553  \n",
      "     10     16632.107007  \n",
      "     11     14206.527894  \n",
      "     12      3282.613303  \n",
      "2022 1      16695.065426  \n",
      "     2      15116.198441  \n",
      "     3       4669.103526  \n",
      "     4      16430.435443  \n",
      "     5      15754.231637  \n",
      "     6      18122.688700  \n",
      "     7       8609.399104  \n",
      "     8      11795.990848  \n"
     ]
    }
   ],
   "source": [
    "import pandas as pd\n",
    "import matplotlib.pyplot as plt\n",
    "\n",
    "# 1. Estatísticas descritivas básicas\n",
    "stats = coffee_gold.describe()\n",
    "print(stats)\n",
    "\n",
    "# 2. Preços médios por ano e por mês\n",
    "coffee_gold['Ano'] = pd.DatetimeIndex(coffee_gold['Date']).year\n",
    "coffee_gold['Mes'] = pd.DatetimeIndex(coffee_gold['Date']).month\n",
    "\n",
    "average_prices = coffee_gold.groupby(['Ano', 'Mes']).mean()\n",
    "print(average_prices)\n",
    "\n"
   ]
  }
 ],
 "metadata": {
  "kernelspec": {
   "display_name": "Python 3 (ipykernel)",
   "language": "python",
   "name": "python3"
  },
  "language_info": {
   "codemirror_mode": {
    "name": "ipython",
    "version": 3
   },
   "file_extension": ".py",
   "mimetype": "text/x-python",
   "name": "python",
   "nbconvert_exporter": "python",
   "pygments_lexer": "ipython3",
   "version": "3.9.16"
  },
  "vp": {
   "vp_config_version": "1.0.0",
   "vp_menu_width": 273,
   "vp_note_display": false,
   "vp_note_width": 0,
   "vp_position": {
    "width": 278
   },
   "vp_section_display": false,
   "vp_signature": "VisualPython"
  }
 },
 "nbformat": 4,
 "nbformat_minor": 5
}
